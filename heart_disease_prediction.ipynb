{
  "nbformat": 4,
  "nbformat_minor": 0,
  "metadata": {
    "colab": {
      "private_outputs": true,
      "provenance": [],
      "authorship_tag": "ABX9TyNmEWO9dcwcpIzQTuGYoa2h",
      "include_colab_link": true
    },
    "kernelspec": {
      "name": "python3",
      "display_name": "Python 3"
    },
    "language_info": {
      "name": "python"
    }
  },
  "cells": [
    {
      "cell_type": "markdown",
      "metadata": {
        "id": "view-in-github",
        "colab_type": "text"
      },
      "source": [
        "<a href=\"https://colab.research.google.com/github/zeyneppniisa/Heart-Disease-Prediction/blob/main/heart_disease_prediction.ipynb\" target=\"_parent\"><img src=\"https://colab.research.google.com/assets/colab-badge.svg\" alt=\"Open In Colab\"/></a>"
      ]
    },
    {
      "cell_type": "code",
      "execution_count": null,
      "metadata": {
        "id": "9K4e_a9Fk4VM"
      },
      "outputs": [],
      "source": [
        "# This mounts your Google Drive to the Colab VM.\n",
        "from google.colab import drive\n",
        "drive.mount('/content/drive')"
      ]
    },
    {
      "cell_type": "markdown",
      "source": [],
      "metadata": {
        "id": "VDf_VI6R-Pfc"
      }
    },
    {
      "cell_type": "markdown",
      "source": [
        "##What is in the Data"
      ],
      "metadata": {
        "id": "b-Oxq_tvKu0W"
      }
    },
    {
      "cell_type": "code",
      "source": [
        "import pandas as pd\n",
        "# Specify the file path\n",
        "dosya_yolu = '/content/drive/MyDrive/dataset_heart.csv'\n",
        "\n",
        "# Read the csv file\n",
        "df = pd.read_csv(dosya_yolu)"
      ],
      "metadata": {
        "id": "MDtpW3_xodtu"
      },
      "execution_count": null,
      "outputs": []
    },
    {
      "cell_type": "markdown",
      "source": [
        "###Quick Information About the Data"
      ],
      "metadata": {
        "id": "5YMQa6CcKpvY"
      }
    },
    {
      "cell_type": "code",
      "source": [
        "df.info()"
      ],
      "metadata": {
        "id": "kycr62XpIjvh"
      },
      "execution_count": null,
      "outputs": []
    },
    {
      "cell_type": "markdown",
      "source": [
        "##Stastical Description of Data"
      ],
      "metadata": {
        "id": "udSurzAHKeKc"
      }
    },
    {
      "cell_type": "code",
      "source": [
        "df.describe()"
      ],
      "metadata": {
        "id": "t7F2vMJNIz3c"
      },
      "execution_count": null,
      "outputs": []
    },
    {
      "cell_type": "markdown",
      "source": [
        "###Presence of Heart Disease by Age"
      ],
      "metadata": {
        "id": "TFamGm_DPyCp"
      }
    },
    {
      "cell_type": "code",
      "source": [
        "# Calculate the presence of heart disease as a percentage according to age\n",
        "heart_disease_percentage = df.groupby('age')['heart disease'].value_counts(normalize=True).mul(100).rename('Percentage').reset_index()\n",
        "\n",
        "# Select 2 in the Heart disease column\n",
        "heart_disease_present = heart_disease_percentage[heart_disease_percentage['heart disease'] == 2]\n"
      ],
      "metadata": {
        "id": "KZ2QyojILo2A"
      },
      "execution_count": null,
      "outputs": []
    },
    {
      "cell_type": "code",
      "source": [
        "import matplotlib.pyplot as plt\n",
        "import seaborn as sns\n",
        "plt.figure(figsize=(12, 6))\n",
        "sns.barplot(x='age', y='Percentage', data=heart_disease_present, palette='viridis')\n",
        "plt.title('Presence of Heart Disease by Age (%)')\n",
        "plt.xlabel('Age')\n",
        "plt.ylabel('Presence of Heart Disease (%)')"
      ],
      "metadata": {
        "id": "nbXmquYaM5ms"
      },
      "execution_count": null,
      "outputs": []
    },
    {
      "cell_type": "markdown",
      "source": [
        "##Presence of Heart Disease by Fasting Blood Sugar"
      ],
      "metadata": {
        "id": "XLOxSxATSJXS"
      }
    },
    {
      "cell_type": "code",
      "source": [
        "# Calculate the presence of heart disease as a percentage according to age\n",
        "heart_disease_percentage2 = df.groupby('fasting blood sugar')['heart disease'].value_counts(normalize=True).mul(100).rename('Percentage').reset_index()\n",
        "\n",
        "# Select 2 in the Heart disease column\n",
        "heart_disease_present2 = heart_disease_percentage2[heart_disease_percentage2['heart disease'] == 2]"
      ],
      "metadata": {
        "id": "xCBzAMjZQTk6"
      },
      "execution_count": null,
      "outputs": []
    },
    {
      "cell_type": "code",
      "source": [
        "import matplotlib.pyplot as plt\n",
        "import seaborn as sns\n",
        "# Pie chart\n",
        "plt.figure(figsize=(12, 6))\n",
        "plt.pie(heart_disease_present2['Percentage'], labels=heart_disease_present2['fasting blood sugar'], autopct='%1.1f%%', startangle=90, colors=sns.color_palette('viridis'))\n",
        "plt.title('Presence of Heart Disease by Fasting Blood Sugar (%)')\n",
        "plt.legend(['Presence','Absence'])\n",
        "plt.show()"
      ],
      "metadata": {
        "id": "TPdNqw1nRkeS"
      },
      "execution_count": null,
      "outputs": []
    },
    {
      "cell_type": "markdown",
      "source": [
        "##Splitting the Dataset into Independent Variables (X) and Dependent Variable (y)"
      ],
      "metadata": {
        "id": "dV6yOAWG5SmR"
      }
    },
    {
      "cell_type": "code",
      "source": [
        "from sklearn.model_selection import train_test_split\n",
        "from sklearn.linear_model import LogisticRegression\n",
        "from sklearn.metrics import accuracy_score"
      ],
      "metadata": {
        "id": "gcB2td8ituQt"
      },
      "execution_count": null,
      "outputs": []
    },
    {
      "cell_type": "code",
      "source": [
        "x = df.drop(columns = 'heart disease',axis=1)\n",
        "y = df['heart disease']"
      ],
      "metadata": {
        "id": "SAAM6HVi01vW"
      },
      "execution_count": null,
      "outputs": []
    },
    {
      "cell_type": "code",
      "source": [
        "print(x)"
      ],
      "metadata": {
        "id": "33d5Bciw1Mjr"
      },
      "execution_count": null,
      "outputs": []
    },
    {
      "cell_type": "code",
      "source": [
        "print(y)"
      ],
      "metadata": {
        "id": "NosM5S_Q1Xig"
      },
      "execution_count": null,
      "outputs": []
    },
    {
      "cell_type": "markdown",
      "source": [
        "##Splitting the Dataset into Training and Test Subsets"
      ],
      "metadata": {
        "id": "fJ95Oub75sUT"
      }
    },
    {
      "cell_type": "code",
      "source": [
        "x_train, x_test ,y_train ,y_test = train_test_split(x, y,test_size=0.2,stratify=y, random_state=2)\n"
      ],
      "metadata": {
        "id": "60R4uj7V1aXG"
      },
      "execution_count": null,
      "outputs": []
    },
    {
      "cell_type": "markdown",
      "source": [
        "##Creating a Logistic Regression Model\n",
        "\n",
        "\n",
        "\n",
        "\n",
        "\n"
      ],
      "metadata": {
        "id": "zvju_aoC532p"
      }
    },
    {
      "cell_type": "code",
      "source": [
        "model = LogisticRegression()"
      ],
      "metadata": {
        "id": "hACDHQdk1uKE"
      },
      "execution_count": null,
      "outputs": []
    },
    {
      "cell_type": "markdown",
      "source": [
        "## Training the Model"
      ],
      "metadata": {
        "id": "ER-tc6J46DyT"
      }
    },
    {
      "cell_type": "code",
      "source": [
        "#training the logistic regression model wit training data\n",
        "model.fit(x_train,y_train)"
      ],
      "metadata": {
        "id": "CtSKFOHw1v6_"
      },
      "execution_count": null,
      "outputs": []
    },
    {
      "cell_type": "markdown",
      "source": [
        "##Make Predictions and Calculate Accuracy Score"
      ],
      "metadata": {
        "id": "_4S8tvDI6Y_U"
      }
    },
    {
      "cell_type": "code",
      "source": [
        "x_train_prediction = model.predict(x_train)\n",
        "trainig_data_accuracy = accuracy_score(x_train_prediction, y_train)\n"
      ],
      "metadata": {
        "id": "wgNQmQS-1-P_"
      },
      "execution_count": null,
      "outputs": []
    },
    {
      "cell_type": "code",
      "source": [
        "print('Accuracy on the Training data: ',trainig_data_accuracy)\n"
      ],
      "metadata": {
        "id": "SUsvaV702azv"
      },
      "execution_count": null,
      "outputs": []
    },
    {
      "cell_type": "code",
      "source": [
        "x_test_prediction = model.predict(x_test)\n",
        "test_data_accuracy = accuracy_score(x_test_prediction, y_test)"
      ],
      "metadata": {
        "id": "omBGYN1q2dz3"
      },
      "execution_count": null,
      "outputs": []
    },
    {
      "cell_type": "code",
      "source": [
        "print('Accuracy on the test data: ',test_data_accuracy)"
      ],
      "metadata": {
        "id": "NDnZmvTF2iMc"
      },
      "execution_count": null,
      "outputs": []
    },
    {
      "cell_type": "markdown",
      "source": [
        "##Testing"
      ],
      "metadata": {
        "id": "GZD2wZrv7g_f"
      }
    },
    {
      "cell_type": "code",
      "source": [
        "# Input data for prediction\n",
        "input_data = (66, 1, 4, 128, 528, 0, 2, 132, 0, 2.8, 2, 3, 7)\n",
        "\n",
        "# Convert input data to a list\n",
        "input_data_as_list = list(input_data)\n",
        "\n",
        "# Reshape the list as we are predicting for only one instance\n",
        "input_data_reshaped = [input_data_as_list]\n",
        "\n",
        "# Make a prediction using the trained model\n",
        "prediction = model.predict(input_data_reshaped)\n",
        "\n",
        "# Display the prediction result\n",
        "if prediction[0] == 0:\n",
        "    print('Does not have a heart disease')\n",
        "else:\n",
        "    print('Has heart disease')\n"
      ],
      "metadata": {
        "id": "cv0dzfsf7bBo"
      },
      "execution_count": null,
      "outputs": []
    }
  ]
}